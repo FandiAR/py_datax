{
  "nbformat": 4,
  "nbformat_minor": 0,
  "metadata": {
    "colab": {
      "provenance": [],
      "authorship_tag": "ABX9TyN33D2Dtz3SwZkinTKEynHJ",
      "include_colab_link": true
    },
    "kernelspec": {
      "name": "python3",
      "display_name": "Python 3"
    },
    "language_info": {
      "name": "python"
    }
  },
  "cells": [
    {
      "cell_type": "markdown",
      "metadata": {
        "id": "view-in-github",
        "colab_type": "text"
      },
      "source": [
        "<a href=\"https://colab.research.google.com/github/FandiAR/py_datax/blob/main/llm.ipynb\" target=\"_parent\"><img src=\"https://colab.research.google.com/assets/colab-badge.svg\" alt=\"Open In Colab\"/></a>"
      ]
    },
    {
      "cell_type": "code",
      "execution_count": 1,
      "metadata": {
        "id": "UdXJleODPzKb"
      },
      "outputs": [],
      "source": [
        "!pip install -q langchain_community replicate"
      ]
    },
    {
      "cell_type": "code",
      "source": [
        "import os\n",
        "\n",
        "from google.colab import userdata\n",
        "from langchain_community.llms import Replicate\n",
        "\n",
        "# set the API token\n",
        "api_token = userdata.get('api_token')\n",
        "os.environ['REPLICATE_API_TOKEN'] = api_token\n",
        "\n",
        "# Model setup\n",
        "model = \"ibm-granite/granite-3.3-8b-instruct\"\n",
        "output = Replicate(\n",
        "    model = model,\n",
        "    replicate_api_token = api_token,\n",
        ")"
      ],
      "metadata": {
        "id": "WrqV05nwQXJv"
      },
      "execution_count": 2,
      "outputs": []
    },
    {
      "cell_type": "markdown",
      "source": [
        "## Classification"
      ],
      "metadata": {
        "id": "iGcJYWM2c14y"
      }
    },
    {
      "cell_type": "code",
      "source": [
        "# Define the customer reviews\n",
        "customer_reviews = [\n",
        "    \"The battery lasts all day, and the performance is excellent.\",\n",
        "    \"The screen is too dim outdoors, but I love the colors indoors.\",\n",
        "    \"This phone is slow and keep crashing when I open certain apps.\"\n",
        "]\n",
        "\n",
        "# Refine the prompt to include reviews\n",
        "reviews_text = \"\\n\".join([f\"Review {i+1}: {review}\" for i, review in enumerate(customer_reviews)])\n",
        "prompt = f\"\"\"\\\n",
        "Classify these reviews as Positive, Negative, or Mixed:\n",
        "\n",
        "{reviews_text}\n",
        "\"\"\"\n",
        "\n",
        "print(prompt)"
      ],
      "metadata": {
        "colab": {
          "base_uri": "https://localhost:8080/"
        },
        "id": "ypTFlRd3VWdO",
        "outputId": "927227ec-d060-44fd-da6c-03834128a7fa"
      },
      "execution_count": 3,
      "outputs": [
        {
          "output_type": "stream",
          "name": "stdout",
          "text": [
            "Classify these reviews as Positive, Negative, or Mixed:\n",
            "\n",
            "Review 1: The battery lasts all day, and the performance is excellent.\n",
            "Review 2: The screen is too dim outdoors, but I love the colors indoors.\n",
            "Review 3: This phone is slow and keep crashing when I open certain apps.\n",
            "\n"
          ]
        }
      ]
    },
    {
      "cell_type": "markdown",
      "source": [
        "## Summarization"
      ],
      "metadata": {
        "id": "9bHhUxtHc8V-"
      }
    },
    {
      "cell_type": "code",
      "source": [
        "# Invoke the model with the example prompt\n",
        "response = output.invoke(prompt)\n",
        "\n",
        "# Print the response\n",
        "print(\"Granite Model Response:\\n\")\n",
        "print(response)"
      ],
      "metadata": {
        "colab": {
          "base_uri": "https://localhost:8080/"
        },
        "id": "fmLUCHuFXQjm",
        "outputId": "fafeeab4-7786-4db0-f339-4c00334eb566"
      },
      "execution_count": 4,
      "outputs": [
        {
          "output_type": "stream",
          "name": "stdout",
          "text": [
            "Granite Model Response:\n",
            "\n",
            "1. Positive: The review expresses satisfaction with the battery life and performance.\n",
            "2. Mixed: This review presents both a positive aspect (love the colors indoors) and a negative aspect (dim screen outdoors).\n",
            "3. Negative: The review criticizes the phone's slow performance and frequent crashing when opening certain apps.\n"
          ]
        }
      ]
    },
    {
      "cell_type": "code",
      "source": [
        "# Define refined prompt\n",
        "\n",
        "refined_prompt = f\"\"\"\\\n",
        "Classify these reviews as Positive, Negative, or Mixed and tag\n",
        "relevant categories (battery life, screen quality, or performance) :\n",
        "\n",
        "{reviews_text}\n",
        "\"\"\"\n",
        "\n",
        "print(refined_prompt)"
      ],
      "metadata": {
        "colab": {
          "base_uri": "https://localhost:8080/"
        },
        "id": "MFepLkbXXThR",
        "outputId": "47b84d5f-dc35-442c-8829-83c02ad9e0c2"
      },
      "execution_count": 5,
      "outputs": [
        {
          "output_type": "stream",
          "name": "stdout",
          "text": [
            "Classify these reviews as Positive, Negative, or Mixed and tag\n",
            "relevant categories (battery life, screen quality, or performance) :\n",
            "\n",
            "Review 1: The battery lasts all day, and the performance is excellent.\n",
            "Review 2: The screen is too dim outdoors, but I love the colors indoors.\n",
            "Review 3: This phone is slow and keep crashing when I open certain apps.\n",
            "\n"
          ]
        }
      ]
    },
    {
      "cell_type": "code",
      "source": [
        "# Invoke the model with the example prompt (refined_prompt)\n",
        "\n",
        "response_refined = output.invoke(refined_prompt)\n",
        "\n",
        "# Print the response\n",
        "print(\"Granite Model Response:\\n\")\n",
        "print(response_refined)"
      ],
      "metadata": {
        "colab": {
          "base_uri": "https://localhost:8080/"
        },
        "id": "CljEAfLFZQJl",
        "outputId": "5c3c1b96-d0bb-40da-f253-f7d379303e95"
      },
      "execution_count": 6,
      "outputs": [
        {
          "output_type": "stream",
          "name": "stdout",
          "text": [
            "Granite Model Response:\n",
            "\n",
            "1. Review 1: Positive, Tags - Battery Life (all day), Performance (excellent)\n",
            "2. Review 2: Mixed, Tags - Screen Quality (dim outdoors, good colors indoors)\n",
            "3. Review 3: Negative, Tags - Performance (slow), Stability (keeps crashing)\n"
          ]
        }
      ]
    },
    {
      "cell_type": "markdown",
      "source": [
        "## Parameterization"
      ],
      "metadata": {
        "id": "1KZylSGBc_bj"
      }
    },
    {
      "cell_type": "code",
      "source": [],
      "metadata": {
        "id": "jSydffYWaFLQ"
      },
      "execution_count": 6,
      "outputs": []
    }
  ]
}