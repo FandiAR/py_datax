{
  "nbformat": 4,
  "nbformat_minor": 0,
  "metadata": {
    "colab": {
      "provenance": [],
      "authorship_tag": "ABX9TyNMzI/SY/AMVdI7XlwshwgX",
      "include_colab_link": true
    },
    "kernelspec": {
      "name": "python3",
      "display_name": "Python 3"
    },
    "language_info": {
      "name": "python"
    }
  },
  "cells": [
    {
      "cell_type": "markdown",
      "metadata": {
        "id": "view-in-github",
        "colab_type": "text"
      },
      "source": [
        "<a href=\"https://colab.research.google.com/github/FandiAR/py_datax/blob/main/llm.ipynb\" target=\"_parent\"><img src=\"https://colab.research.google.com/assets/colab-badge.svg\" alt=\"Open In Colab\"/></a>"
      ]
    },
    {
      "cell_type": "markdown",
      "source": [
        "### Install lib"
      ],
      "metadata": {
        "id": "CPTW9z4PeF8n"
      }
    },
    {
      "cell_type": "code",
      "execution_count": 1,
      "metadata": {
        "id": "UdXJleODPzKb"
      },
      "outputs": [],
      "source": [
        "!pip install -q langchain_community replicate"
      ]
    },
    {
      "cell_type": "markdown",
      "source": [
        "### Import libs"
      ],
      "metadata": {
        "id": "yVjP0_w1eJYL"
      }
    },
    {
      "cell_type": "code",
      "source": [
        "import os\n",
        "\n",
        "from google.colab import userdata\n",
        "from langchain_community.llms import Replicate\n",
        "\n",
        "# set the API token\n",
        "api_token = userdata.get('api_token')\n",
        "os.environ['REPLICATE_API_TOKEN'] = api_token\n",
        "\n",
        "# Model setup\n",
        "model = \"ibm-granite/granite-3.3-8b-instruct\"\n",
        "output = Replicate(\n",
        "    model = model,\n",
        "    replicate_api_token = api_token,\n",
        ")"
      ],
      "metadata": {
        "id": "WrqV05nwQXJv"
      },
      "execution_count": 2,
      "outputs": []
    },
    {
      "cell_type": "markdown",
      "source": [
        "# Prompt"
      ],
      "metadata": {
        "id": "VMjfXvbzeMfW"
      }
    },
    {
      "cell_type": "markdown",
      "source": [
        "## Classification"
      ],
      "metadata": {
        "id": "iGcJYWM2c14y"
      }
    },
    {
      "cell_type": "code",
      "source": [
        "# Define the customer reviews\n",
        "customer_reviews = [\n",
        "    \"The battery lasts all day, and the performance is excellent.\",\n",
        "    \"The screen is too dim outdoors, but I love the colors indoors.\",\n",
        "    \"This phone is slow and keep crashing when I open certain apps.\"\n",
        "]\n",
        "\n",
        "# Refine the prompt to include reviews\n",
        "reviews_text = \"\\n\".join([f\"Review {i+1}: {review}\" for i, review in enumerate(customer_reviews)])\n",
        "prompt = f\"\"\"\\\n",
        "Classify these reviews as Positive, Negative, or Mixed:\n",
        "\n",
        "{reviews_text}\n",
        "\"\"\"\n",
        "\n",
        "print(prompt)"
      ],
      "metadata": {
        "colab": {
          "base_uri": "https://localhost:8080/"
        },
        "id": "ypTFlRd3VWdO",
        "outputId": "927227ec-d060-44fd-da6c-03834128a7fa"
      },
      "execution_count": 3,
      "outputs": [
        {
          "output_type": "stream",
          "name": "stdout",
          "text": [
            "Classify these reviews as Positive, Negative, or Mixed:\n",
            "\n",
            "Review 1: The battery lasts all day, and the performance is excellent.\n",
            "Review 2: The screen is too dim outdoors, but I love the colors indoors.\n",
            "Review 3: This phone is slow and keep crashing when I open certain apps.\n",
            "\n"
          ]
        }
      ]
    },
    {
      "cell_type": "markdown",
      "source": [
        "## Summarization"
      ],
      "metadata": {
        "id": "9bHhUxtHc8V-"
      }
    },
    {
      "cell_type": "code",
      "source": [
        "# Invoke the model with the example prompt\n",
        "response = output.invoke(prompt)\n",
        "\n",
        "# Print the response\n",
        "print(\"Granite Model Response:\\n\")\n",
        "print(response)"
      ],
      "metadata": {
        "colab": {
          "base_uri": "https://localhost:8080/"
        },
        "id": "fmLUCHuFXQjm",
        "outputId": "fafeeab4-7786-4db0-f339-4c00334eb566"
      },
      "execution_count": 4,
      "outputs": [
        {
          "output_type": "stream",
          "name": "stdout",
          "text": [
            "Granite Model Response:\n",
            "\n",
            "1. Positive: The review expresses satisfaction with the battery life and performance.\n",
            "2. Mixed: This review presents both a positive aspect (love the colors indoors) and a negative aspect (dim screen outdoors).\n",
            "3. Negative: The review criticizes the phone's slow performance and frequent crashing when opening certain apps.\n"
          ]
        }
      ]
    },
    {
      "cell_type": "code",
      "source": [
        "# Define refined prompt\n",
        "\n",
        "refined_prompt = f\"\"\"\\\n",
        "Classify these reviews as Positive, Negative, or Mixed and tag\n",
        "relevant categories (battery life, screen quality, or performance) :\n",
        "\n",
        "{reviews_text}\n",
        "\"\"\"\n",
        "\n",
        "print(refined_prompt)"
      ],
      "metadata": {
        "colab": {
          "base_uri": "https://localhost:8080/"
        },
        "id": "MFepLkbXXThR",
        "outputId": "47b84d5f-dc35-442c-8829-83c02ad9e0c2"
      },
      "execution_count": 5,
      "outputs": [
        {
          "output_type": "stream",
          "name": "stdout",
          "text": [
            "Classify these reviews as Positive, Negative, or Mixed and tag\n",
            "relevant categories (battery life, screen quality, or performance) :\n",
            "\n",
            "Review 1: The battery lasts all day, and the performance is excellent.\n",
            "Review 2: The screen is too dim outdoors, but I love the colors indoors.\n",
            "Review 3: This phone is slow and keep crashing when I open certain apps.\n",
            "\n"
          ]
        }
      ]
    },
    {
      "cell_type": "code",
      "source": [
        "# Invoke the model with the example prompt (refined_prompt)\n",
        "\n",
        "response_refined = output.invoke(refined_prompt)\n",
        "\n",
        "# Print the response\n",
        "print(\"Granite Model Response:\\n\")\n",
        "print(response_refined)"
      ],
      "metadata": {
        "colab": {
          "base_uri": "https://localhost:8080/"
        },
        "id": "CljEAfLFZQJl",
        "outputId": "5c3c1b96-d0bb-40da-f253-f7d379303e95"
      },
      "execution_count": 6,
      "outputs": [
        {
          "output_type": "stream",
          "name": "stdout",
          "text": [
            "Granite Model Response:\n",
            "\n",
            "1. Review 1: Positive, Tags - Battery Life (all day), Performance (excellent)\n",
            "2. Review 2: Mixed, Tags - Screen Quality (dim outdoors, good colors indoors)\n",
            "3. Review 3: Negative, Tags - Performance (slow), Stability (keeps crashing)\n"
          ]
        }
      ]
    },
    {
      "cell_type": "markdown",
      "source": [
        "# Parameterization"
      ],
      "metadata": {
        "id": "1KZylSGBc_bj"
      }
    },
    {
      "cell_type": "markdown",
      "source": [
        "## Classification"
      ],
      "metadata": {
        "id": "EdM9GMDJeZlZ"
      }
    },
    {
      "cell_type": "code",
      "source": [
        "# Define the customer reviews\n",
        "customer_reviews_parameterization = [\n",
        "    \"The battery lasts all day, and the performance is excellent.\",\n",
        "    \"The screen is too dim outdoors, but I love the colors indoors.\",\n",
        "    \"This phone is slow and keep crashing when I open certain apps.\"\n",
        "]\n",
        "\n",
        "# Refine the prompt to include reviews\n",
        "reviews_text_parameterization = \"\\n\".join([f\"Review {i+1}: {review}\" for i, review in enumerate(customer_reviews_parameterization)])"
      ],
      "metadata": {
        "id": "dQxqq3QKeekF"
      },
      "execution_count": 11,
      "outputs": []
    },
    {
      "cell_type": "code",
      "source": [
        "# Set model parameters for prompting with default values\n",
        "parameters = {\n",
        "    \"top_k\": 0,\n",
        "    \"top_p\": 1.0,\n",
        "    \"max_tokens\": 256,\n",
        "    \"min_tokens\": 0,\n",
        "    \"random_seed\": None,\n",
        "    \"repetition_penalty\": 1.0,\n",
        "    \"stopping_criteria\": \"length (256 tokens)\",\n",
        "    \"stopping_sequence\": None\n",
        "}"
      ],
      "metadata": {
        "id": "3nR2Rqw1lIY7"
      },
      "execution_count": 15,
      "outputs": []
    },
    {
      "cell_type": "code",
      "source": [
        "# Add initial prompt\n",
        "\n",
        "refined_prompt_parameterization = f\"\"\"\\\n",
        "Classify these reviews as Positive, Negative, or Mixed and tag\n",
        "relevant focus areas such as battery life, screen quality, or performance\n",
        "\n",
        "{reviews_text_parameterization}\n",
        "\"\"\"\n",
        "\n",
        "# Invoke the model\n",
        "response_parameterization = output.invoke(refined_prompt_parameterization, parameters=parameters)\n",
        "\n",
        "# Print the response\n",
        "print(\"Granite Model Response:\\n\")\n",
        "print(response_parameterization)"
      ],
      "metadata": {
        "colab": {
          "base_uri": "https://localhost:8080/"
        },
        "id": "l0aHTEMmlvaQ",
        "outputId": "ab2b2275-3e8b-402c-fd13-3dca863753f6"
      },
      "execution_count": 16,
      "outputs": [
        {
          "output_type": "stream",
          "name": "stdout",
          "text": [
            "Granite Model Response:\n",
            "\n",
            "1. Review 1: Positive; Focus areas - Battery life, Performance\n",
            "2. Review 2: Mixed; Focus areas - Screen quality (dim outdoors, good colors indoors)\n",
            "3. Review 3: Negative; Focus areas - Performance (slow), Stability (crashing issue)\n"
          ]
        }
      ]
    },
    {
      "cell_type": "code",
      "source": [
        "parameters = {\n",
        "    \"top_k\": 5,\n",
        "    \"top_p\": 1.0,\n",
        "    \"max_tokens\": 256,\n",
        "    \"min_tokens\": 0,\n",
        "    \"random_seed\": None,\n",
        "    \"repetition_penalty\": 1.0,\n",
        "    \"stopping_criteria\": \"length (256 tokens)\",\n",
        "    \"stopping_sequence\": None\n",
        "}"
      ],
      "metadata": {
        "id": "-KrA7LBjm3Xj"
      },
      "execution_count": 19,
      "outputs": []
    },
    {
      "cell_type": "code",
      "source": [
        "# Add initial prompt after update parameter top_k\n",
        "\n",
        "refined_prompt_parameterization = f\"\"\"\\\n",
        "Classify these reviews as Positive, Negative, or Mixed and tag\n",
        "relevant focus areas such as battery life, screen quality, or performance\n",
        "\n",
        "{reviews_text_parameterization}\n",
        "\"\"\"\n",
        "\n",
        "# Invoke the model\n",
        "response_parameterization = output.invoke(refined_prompt_parameterization, parameters=parameters)\n",
        "\n",
        "# Print the response\n",
        "print(\"Granite Model Response:\\n\")\n",
        "print(response_parameterization)"
      ],
      "metadata": {
        "colab": {
          "base_uri": "https://localhost:8080/"
        },
        "id": "lLel8xBpm93A",
        "outputId": "1a9bc3d4-bb01-4c1b-c9e0-e38f69ad3d01"
      },
      "execution_count": 20,
      "outputs": [
        {
          "output_type": "stream",
          "name": "stdout",
          "text": [
            "Granite Model Response:\n",
            "\n",
            "1. Positive, focusing on battery life and performance.\n",
            "2. Mixed, with negative focus on outdoor screen dimness and positive on indoor color quality.\n",
            "3. Negative, focusing on poor performance and frequent crashes.\n"
          ]
        }
      ]
    },
    {
      "cell_type": "markdown",
      "source": [
        "## Summarization"
      ],
      "metadata": {
        "id": "TLXsvILpecRW"
      }
    },
    {
      "cell_type": "code",
      "source": [
        "parameters = {\n",
        "    \"top_k\": 1,\n",
        "    \"top_p\": 1.0,\n",
        "    \"max_tokens\": 256,\n",
        "    \"min_tokens\": 0,\n",
        "    \"random_seed\": None,\n",
        "    \"repetition_penalty\": 1.0,\n",
        "    \"stopping_criteria\": \"length (256 tokens)\",\n",
        "    \"stopping_sequence\": None\n",
        "}\n",
        "\n",
        "# Add initial prompt after update parameter top_k\n",
        "\n",
        "refined_prompt_parameterization = f\"\"\"\\\n",
        "Classify these reviews as Positive, Negative, or Mixed and tag\n",
        "relevant focus areas such as battery life, screen quality, or performance\n",
        "\n",
        "{reviews_text_parameterization}\n",
        "\"\"\"\n",
        "\n",
        "# Invoke the model\n",
        "response_parameterization = output.invoke(refined_prompt_parameterization, parameters=parameters)\n",
        "\n",
        "# Print the response\n",
        "print(\"Granite Model Response:\\n\")\n",
        "print(response_parameterization)"
      ],
      "metadata": {
        "colab": {
          "base_uri": "https://localhost:8080/"
        },
        "id": "UegrN8g4nUcP",
        "outputId": "0cc2e980-0017-4fb3-b06e-b9345f14581f"
      },
      "execution_count": 21,
      "outputs": [
        {
          "output_type": "stream",
          "name": "stdout",
          "text": [
            "Granite Model Response:\n",
            "\n",
            "1. Positive, Focuses on battery life and performance.\n",
            "2. Mixed, Focuses on screen quality (dim outdoors, good colors indoors).\n",
            "3. Negative, Focuses on performance (slow, frequent crashes).\n"
          ]
        }
      ]
    }
  ]
}